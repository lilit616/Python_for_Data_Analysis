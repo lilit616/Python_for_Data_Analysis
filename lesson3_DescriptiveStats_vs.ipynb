{
  "nbformat": 4,
  "nbformat_minor": 0,
  "metadata": {
    "kernelspec": {
      "display_name": "Python 3",
      "language": "python",
      "name": "python3"
    },
    "language_info": {
      "codemirror_mode": {
        "name": "ipython",
        "version": 3
      },
      "file_extension": ".py",
      "mimetype": "text/x-python",
      "name": "python",
      "nbconvert_exporter": "python",
      "pygments_lexer": "ipython3",
      "version": "3.6.8"
    },
    "colab": {
      "name": "lesson3_DescriptiveStats.ipynb",
      "version": "0.3.2",
      "provenance": []
    }
  },
  "cells": [
    {
      "cell_type": "markdown",
      "metadata": {
        "id": "Rp85x1SNSQS8",
        "colab_type": "text"
      },
      "source": [
        "# Descriptive Statistics\n",
        "\n",
        "As their name suggests, descriptive statistics describe a particular quality of the data they summarize. These statistics fall into two general categories: the **measures of central tendency** and the **measures of spread.**\n",
        "\n",
        "\n",
        "\n",
        "## Measures of Central Tendency: \n",
        "Measures of central tendency describe the center position of a distribution for a data set.\n",
        "\n",
        "1. Mean\n",
        "2. Mode\n",
        "3. Median\n",
        "\n",
        "## Measures of Spread: \n",
        "The measures of spread (also known as dispersion) answer the question, “How much does my data vary?” . It describes the dispersion of data within the set\n",
        "\n",
        "1. Standard Deviation\n",
        "2. Variance\n",
        "\n",
        "## Distributions:\n",
        "1. Histogram\n",
        "2. Probablity Distributions\n",
        "3. Normal vs Non Normal\n",
        "4. Skewness\n",
        "5. Kurtosis\n",
        "\n",
        "In addition, we will also cover \n",
        "- Central limit theorem\n",
        "- C and Z score\n",
        "- Confidence Score\n"
      ]
    },
    {
      "cell_type": "code",
      "metadata": {
        "id": "7ZltfuPXSQS9",
        "colab_type": "code",
        "colab": {}
      },
      "source": [
        "import pandas as pd\n",
        "import numpy as np\n",
        "import matplotlib.pyplot as plt\n",
        "import seaborn as sns\n",
        "%matplotlib inline"
      ],
      "execution_count": 0,
      "outputs": []
    },
    {
      "cell_type": "code",
      "metadata": {
        "id": "Y7Qax8c9SQTA",
        "colab_type": "code",
        "colab": {}
      },
      "source": [
        "from IPython.display import display, clear_output"
      ],
      "execution_count": 0,
      "outputs": []
    },
    {
      "cell_type": "code",
      "metadata": {
        "id": "M_5H99oxSQTB",
        "colab_type": "code",
        "colab": {}
      },
      "source": [
        "df = pd.read_csv('https://raw.githubusercontent.com/lilit616/Python_for_Data_Analysis/master/human_body_temperature.csv')"
      ],
      "execution_count": 0,
      "outputs": []
    },
    {
      "cell_type": "code",
      "metadata": {
        "scrolled": true,
        "id": "pEL8d_c5SQTD",
        "colab_type": "code",
        "colab": {
          "base_uri": "https://localhost:8080/",
          "height": 204
        },
        "outputId": "eed2b2fb-d7ba-4de5-d671-05b46e4b7bbc"
      },
      "source": [
        "df.head()"
      ],
      "execution_count": 4,
      "outputs": [
        {
          "output_type": "execute_result",
          "data": {
            "text/html": [
              "<div>\n",
              "<style scoped>\n",
              "    .dataframe tbody tr th:only-of-type {\n",
              "        vertical-align: middle;\n",
              "    }\n",
              "\n",
              "    .dataframe tbody tr th {\n",
              "        vertical-align: top;\n",
              "    }\n",
              "\n",
              "    .dataframe thead th {\n",
              "        text-align: right;\n",
              "    }\n",
              "</style>\n",
              "<table border=\"1\" class=\"dataframe\">\n",
              "  <thead>\n",
              "    <tr style=\"text-align: right;\">\n",
              "      <th></th>\n",
              "      <th>temperature</th>\n",
              "      <th>gender</th>\n",
              "      <th>heart_rate</th>\n",
              "    </tr>\n",
              "  </thead>\n",
              "  <tbody>\n",
              "    <tr>\n",
              "      <th>0</th>\n",
              "      <td>99.3</td>\n",
              "      <td>F</td>\n",
              "      <td>68.0</td>\n",
              "    </tr>\n",
              "    <tr>\n",
              "      <th>1</th>\n",
              "      <td>98.4</td>\n",
              "      <td>F</td>\n",
              "      <td>81.0</td>\n",
              "    </tr>\n",
              "    <tr>\n",
              "      <th>2</th>\n",
              "      <td>97.8</td>\n",
              "      <td>M</td>\n",
              "      <td>73.0</td>\n",
              "    </tr>\n",
              "    <tr>\n",
              "      <th>3</th>\n",
              "      <td>99.2</td>\n",
              "      <td>F</td>\n",
              "      <td>66.0</td>\n",
              "    </tr>\n",
              "    <tr>\n",
              "      <th>4</th>\n",
              "      <td>98.0</td>\n",
              "      <td>F</td>\n",
              "      <td>73.0</td>\n",
              "    </tr>\n",
              "  </tbody>\n",
              "</table>\n",
              "</div>"
            ],
            "text/plain": [
              "   temperature gender  heart_rate\n",
              "0         99.3      F        68.0\n",
              "1         98.4      F        81.0\n",
              "2         97.8      M        73.0\n",
              "3         99.2      F        66.0\n",
              "4         98.0      F        73.0"
            ]
          },
          "metadata": {
            "tags": []
          },
          "execution_count": 4
        }
      ]
    },
    {
      "cell_type": "markdown",
      "metadata": {
        "id": "F_RJcV0GSQTF",
        "colab_type": "text"
      },
      "source": [
        "## 1. Mean ($\\mu $)\n",
        "\n",
        "The **statistical mean** refers to the mean or average that is used to derive the central tendency of the data in question. It is determined by adding all the data points in a population and then dividing the total by the number of points. The resulting number is known as the mean or the average.. Because of how it's calculated, **the mean is suseptible to outliers.** \n",
        "\n",
        "$ \\mu = \\frac {\\sum_{i=1}^{n}  x_i}{n} $\n",
        "\n",
        "where $ x_i $ are the individual data points in the sample and n is the total number of items in the sample. \n",
        "\n",
        "\n"
      ]
    },
    {
      "cell_type": "code",
      "metadata": {
        "id": "74kKzHcESQTG",
        "colab_type": "code",
        "colab": {
          "base_uri": "https://localhost:8080/",
          "height": 34
        },
        "outputId": "0a166b23-a4de-47be-f19a-c5db11691563"
      },
      "source": [
        "df.shape[0]"
      ],
      "execution_count": 14,
      "outputs": [
        {
          "output_type": "execute_result",
          "data": {
            "text/plain": [
              "130"
            ]
          },
          "metadata": {
            "tags": []
          },
          "execution_count": 14
        }
      ]
    },
    {
      "cell_type": "code",
      "metadata": {
        "id": "EuqSOrzrSQTH",
        "colab_type": "code",
        "colab": {
          "base_uri": "https://localhost:8080/",
          "height": 34
        },
        "outputId": "7cb0086f-daea-4d67-cfbe-4720e1825a02"
      },
      "source": [
        "df['temperature'].sum()/(df.shape[0])"
      ],
      "execution_count": 15,
      "outputs": [
        {
          "output_type": "execute_result",
          "data": {
            "text/plain": [
              "98.24923076923075"
            ]
          },
          "metadata": {
            "tags": []
          },
          "execution_count": 15
        }
      ]
    },
    {
      "cell_type": "code",
      "metadata": {
        "id": "uzLHlcVSSQTJ",
        "colab_type": "code",
        "colab": {
          "base_uri": "https://localhost:8080/",
          "height": 34
        },
        "outputId": "b07fbf5e-ae6e-4a5e-dfa9-538458a351dd"
      },
      "source": [
        "mean = df['temperature'].mean()\n",
        "mean"
      ],
      "execution_count": 9,
      "outputs": [
        {
          "output_type": "execute_result",
          "data": {
            "text/plain": [
              "98.24923076923078"
            ]
          },
          "metadata": {
            "tags": []
          },
          "execution_count": 9
        }
      ]
    },
    {
      "cell_type": "markdown",
      "metadata": {
        "id": "pdXbmDQ8SQTL",
        "colab_type": "text"
      },
      "source": [
        "## 2. Mode\n",
        "\n",
        "The **statistical mode** refers to the most frequently occurring number found in a set of numbers. The mode is found by collecting and organizing data in order to count the frequency of each result. The result with the highest count of occurrences is the mode of the set, also referred to as the **modal value.**"
      ]
    },
    {
      "cell_type": "code",
      "metadata": {
        "id": "ErgwHz88SQTL",
        "colab_type": "code",
        "colab": {
          "base_uri": "https://localhost:8080/",
          "height": 51
        },
        "outputId": "f2bb9c47-d640-424d-a04d-575406187d49"
      },
      "source": [
        "df['temperature'].mode()"
      ],
      "execution_count": 10,
      "outputs": [
        {
          "output_type": "execute_result",
          "data": {
            "text/plain": [
              "0    98.0\n",
              "dtype: float64"
            ]
          },
          "metadata": {
            "tags": []
          },
          "execution_count": 10
        }
      ]
    },
    {
      "cell_type": "markdown",
      "metadata": {
        "id": "Uby8HhqcSQTN",
        "colab_type": "text"
      },
      "source": [
        "## 3. Median\n",
        "\n",
        "The mean may not be a fair representation of the data, because the average is easily influenced by outliers (very small or large values in the data set that are not typical). The median is another way to measure the center tendency of a numerical data set. Thus, the median is truly the middle of the data set.\n",
        "\n",
        "To find the median, we first need to:\n",
        "1. Reorganize our data set in ascending order. \n",
        "2. Find the value that coincides with the middle of the data set. If there are an even amount of items, then we take the average of the two values that would “surround” the middle. \n",
        "\n",
        "This value is the **Median.**\n",
        "\n"
      ]
    },
    {
      "cell_type": "code",
      "metadata": {
        "id": "ATK1BuPsSQTO",
        "colab_type": "code",
        "colab": {
          "base_uri": "https://localhost:8080/",
          "height": 1000
        },
        "outputId": "ef4d2942-19d5-4c2c-ada3-ca8031f30a18"
      },
      "source": [
        "df['temperature'].sort_values()"
      ],
      "execution_count": 16,
      "outputs": [
        {
          "output_type": "execute_result",
          "data": {
            "text/plain": [
              "125     96.3\n",
              "39      96.4\n",
              "11      96.7\n",
              "105     96.7\n",
              "95      96.8\n",
              "42      96.9\n",
              "106     97.0\n",
              "85      97.1\n",
              "93      97.1\n",
              "49      97.1\n",
              "43      97.2\n",
              "123     97.2\n",
              "18      97.2\n",
              "109     97.3\n",
              "46      97.4\n",
              "65      97.4\n",
              "47      97.4\n",
              "78      97.4\n",
              "66      97.4\n",
              "124     97.5\n",
              "82      97.5\n",
              "59      97.6\n",
              "104     97.6\n",
              "79      97.6\n",
              "31      97.6\n",
              "71      97.7\n",
              "120     97.7\n",
              "126     97.7\n",
              "117     97.8\n",
              "90      97.8\n",
              "       ...  \n",
              "7       98.8\n",
              "92      98.8\n",
              "56      98.8\n",
              "110     98.8\n",
              "73      98.8\n",
              "15      98.8\n",
              "75      98.8\n",
              "80      98.8\n",
              "98      98.8\n",
              "69      98.9\n",
              "50      98.9\n",
              "122     99.0\n",
              "114     99.0\n",
              "44      99.0\n",
              "100     99.0\n",
              "74      99.0\n",
              "60      99.1\n",
              "113     99.1\n",
              "36      99.1\n",
              "5       99.2\n",
              "83      99.2\n",
              "3       99.2\n",
              "0       99.3\n",
              "34      99.3\n",
              "103     99.4\n",
              "19      99.4\n",
              "35      99.5\n",
              "96      99.9\n",
              "91     100.0\n",
              "116    100.8\n",
              "Name: temperature, Length: 130, dtype: float64"
            ]
          },
          "metadata": {
            "tags": []
          },
          "execution_count": 16
        }
      ]
    },
    {
      "cell_type": "markdown",
      "metadata": {
        "id": "E8PjSn9GSQTQ",
        "colab_type": "text"
      },
      "source": [
        "Always use the median when the distribution is skewed. You can use either the mean or the median when the population is symmetrical, because then they will give almost identical results.\n"
      ]
    },
    {
      "cell_type": "code",
      "metadata": {
        "id": "UJ5akvfASQTR",
        "colab_type": "code",
        "colab": {
          "base_uri": "https://localhost:8080/",
          "height": 34
        },
        "outputId": "596b2f43-0f00-4296-d8fb-71d6f909d6d8"
      },
      "source": [
        "df['temperature'].median()"
      ],
      "execution_count": 12,
      "outputs": [
        {
          "output_type": "execute_result",
          "data": {
            "text/plain": [
              "98.3"
            ]
          },
          "metadata": {
            "tags": []
          },
          "execution_count": 12
        }
      ]
    },
    {
      "cell_type": "markdown",
      "metadata": {
        "id": "yOO8wSW1SQTT",
        "colab_type": "text"
      },
      "source": [
        "# Measures of Spread\n",
        "\n",
        "\n",
        "## 1. Standard Deviation ($ \\sigma $ )\n",
        "Standard deviation is a measure of how spread out data is around center of the distribution (the mean). \n",
        "\n",
        "$ {\\sigma}=\\sqrt{\\frac{\\sum_{i=1}^{n} (x_i -\\mu)^2}{n}}$\n",
        "\n",
        "Steps to caluclate the standard deviation:\n",
        "\n",
        "1. Find the mean.\n",
        "2. For each data point, find the square of its distance to the mean.\n",
        "3. Sum the values from Step 2.\n",
        "4. Divide by the number of data points.\n",
        "5. Take the square root.\n",
        "\n",
        "\n",
        "\n"
      ]
    },
    {
      "cell_type": "code",
      "metadata": {
        "id": "uS2UiVB2SQTU",
        "colab_type": "code",
        "colab": {
          "base_uri": "https://localhost:8080/",
          "height": 34
        },
        "outputId": "13e2b8df-5f97-46e6-bb89-449a0fe4fd20"
      },
      "source": [
        "df['temperature'].std()"
      ],
      "execution_count": 19,
      "outputs": [
        {
          "output_type": "execute_result",
          "data": {
            "text/plain": [
              "0.7331831580389454"
            ]
          },
          "metadata": {
            "tags": []
          },
          "execution_count": 19
        }
      ]
    },
    {
      "cell_type": "markdown",
      "metadata": {
        "id": "IwaBZeSESQTW",
        "colab_type": "text"
      },
      "source": [
        "## 2. Variance ($\\sigma ^2 $ , Var(X) )\n",
        "\n",
        "Variance is a measures how far a set of (random) numbers are spread out from their average value.\n",
        "\n",
        "The variance of a random variable X is the expected value of the squared deviation from the mean of X, $ \\mu = E[X]$ :\n",
        "\n",
        "$ Var(X) = E[(X - \\mu) ^2] $\n",
        "\n"
      ]
    },
    {
      "cell_type": "code",
      "metadata": {
        "id": "mrpKQlzySQTW",
        "colab_type": "code",
        "colab": {
          "base_uri": "https://localhost:8080/",
          "height": 286
        },
        "outputId": "f9b71416-9fb2-4801-95f9-a60200901d02"
      },
      "source": [
        "df.boxplot(column='temperature', sym='o', return_type='axes')"
      ],
      "execution_count": 18,
      "outputs": [
        {
          "output_type": "execute_result",
          "data": {
            "text/plain": [
              "<matplotlib.axes._subplots.AxesSubplot at 0x7f8cb0e00b70>"
            ]
          },
          "metadata": {
            "tags": []
          },
          "execution_count": 18
        },
        {
          "output_type": "display_data",
          "data": {
            "image/png": "[encoded data removed]",
            "text/plain": [
              "<Figure size 432x288 with 1 Axes>"
            ]
          },
          "metadata": {
            "tags": []
          }
        }
      ]
    },
    {
      "cell_type": "markdown",
      "metadata": {
        "id": "rz2DEJ8hSQTY",
        "colab_type": "text"
      },
      "source": [
        "In Pandas, we can use describe function to get all this aggregate information:"
      ]
    },
    {
      "cell_type": "code",
      "metadata": {
        "id": "lGL84SjpSQTY",
        "colab_type": "code",
        "colab": {
          "base_uri": "https://localhost:8080/",
          "height": 297
        },
        "outputId": "cc516874-0046-4e8f-e6d2-5acd672a8bd8"
      },
      "source": [
        "df.describe()"
      ],
      "execution_count": 21,
      "outputs": [
        {
          "output_type": "execute_result",
          "data": {
            "text/html": [
              "<div>\n",
              "<style scoped>\n",
              "    .dataframe tbody tr th:only-of-type {\n",
              "        vertical-align: middle;\n",
              "    }\n",
              "\n",
              "    .dataframe tbody tr th {\n",
              "        vertical-align: top;\n",
              "    }\n",
              "\n",
              "    .dataframe thead th {\n",
              "        text-align: right;\n",
              "    }\n",
              "</style>\n",
              "<table border=\"1\" class=\"dataframe\">\n",
              "  <thead>\n",
              "    <tr style=\"text-align: right;\">\n",
              "      <th></th>\n",
              "      <th>temperature</th>\n",
              "      <th>heart_rate</th>\n",
              "    </tr>\n",
              "  </thead>\n",
              "  <tbody>\n",
              "    <tr>\n",
              "      <th>count</th>\n",
              "      <td>130.000000</td>\n",
              "      <td>130.000000</td>\n",
              "    </tr>\n",
              "    <tr>\n",
              "      <th>mean</th>\n",
              "      <td>98.249231</td>\n",
              "      <td>73.761538</td>\n",
              "    </tr>\n",
              "    <tr>\n",
              "      <th>std</th>\n",
              "      <td>0.733183</td>\n",
              "      <td>7.062077</td>\n",
              "    </tr>\n",
              "    <tr>\n",
              "      <th>min</th>\n",
              "      <td>96.300000</td>\n",
              "      <td>57.000000</td>\n",
              "    </tr>\n",
              "    <tr>\n",
              "      <th>25%</th>\n",
              "      <td>97.800000</td>\n",
              "      <td>69.000000</td>\n",
              "    </tr>\n",
              "    <tr>\n",
              "      <th>50%</th>\n",
              "      <td>98.300000</td>\n",
              "      <td>74.000000</td>\n",
              "    </tr>\n",
              "    <tr>\n",
              "      <th>75%</th>\n",
              "      <td>98.700000</td>\n",
              "      <td>79.000000</td>\n",
              "    </tr>\n",
              "    <tr>\n",
              "      <th>max</th>\n",
              "      <td>100.800000</td>\n",
              "      <td>89.000000</td>\n",
              "    </tr>\n",
              "  </tbody>\n",
              "</table>\n",
              "</div>"
            ],
            "text/plain": [
              "       temperature  heart_rate\n",
              "count   130.000000  130.000000\n",
              "mean     98.249231   73.761538\n",
              "std       0.733183    7.062077\n",
              "min      96.300000   57.000000\n",
              "25%      97.800000   69.000000\n",
              "50%      98.300000   74.000000\n",
              "75%      98.700000   79.000000\n",
              "max     100.800000   89.000000"
            ]
          },
          "metadata": {
            "tags": []
          },
          "execution_count": 21
        }
      ]
    },
    {
      "cell_type": "markdown",
      "metadata": {
        "id": "mdi2bFNkSQTa",
        "colab_type": "text"
      },
      "source": [
        "# Distributions\n",
        "\n",
        "## 1. Histogram\n",
        "A great way to get started exploring a single variable is with the histogram. A histogram divides the variable into bins, counts the data points in each bin, and shows the bins on the x-axis and the counts on the y-axis. \n",
        "\n",
        "In our case, the bins will be an interval of the human body temperature and the count will be the number of people within that  temperature interval. The **binwidth** is the most important parameter for a histogram and we should always try out a few different values of binwidth to select the best one for our data."
      ]
    },
    {
      "cell_type": "code",
      "metadata": {
        "scrolled": true,
        "id": "hIyhXc8WSQTa",
        "colab_type": "code",
        "outputId": "9177990a-6b21-4f20-9483-b1ff694f34a2",
        "colab": {}
      },
      "source": [
        "df['temperature'].hist()"
      ],
      "execution_count": 0,
      "outputs": [
        {
          "output_type": "execute_result",
          "data": {
            "text/plain": [
              "<matplotlib.axes._subplots.AxesSubplot at 0x1a16f84400>"
            ]
          },
          "metadata": {
            "tags": []
          },
          "execution_count": 92
        },
        {
          "output_type": "display_data",
          "data": {
            "image/png": "[encoded data removed]",
            "text/plain": [
              "<Figure size 432x288 with 1 Axes>"
            ]
          },
          "metadata": {
            "tags": []
          }
        }
      ]
    },
    {
      "cell_type": "code",
      "metadata": {
        "id": "733lADfrSQTd",
        "colab_type": "code",
        "colab": {}
      },
      "source": [
        "Below we show the effect of using differnt binwidths:"
      ],
      "execution_count": 0,
      "outputs": []
    },
    {
      "cell_type": "code",
      "metadata": {
        "id": "ghTYXuOMSQTf",
        "colab_type": "code",
        "outputId": "2d4d0fc5-e8d6-4181-8400-ddf6f2769237",
        "colab": {}
      },
      "source": [
        "fig = plt.figure()\n",
        "for i in range(10,20):\n",
        "    df['temperature'].hist(bins=i)\n",
        "    display(fig)\n",
        "    clear_output(wait = True)\n",
        "    plt.pause(1)"
      ],
      "execution_count": 0,
      "outputs": [
        {
          "output_type": "display_data",
          "data": {
            "image/png": "[encoded data removed]",
            "text/plain": [
              "<Figure size 432x288 with 1 Axes>"
            ]
          },
          "metadata": {
            "tags": []
          }
        }
      ]
    },
    {
      "cell_type": "markdown",
      "metadata": {
        "id": "qcsIzj8VSQTh",
        "colab_type": "text"
      },
      "source": [
        "## 2. Probability Distribution (PD)\n",
        "\n",
        "In probability theory and statistics, a **probability distribution** is a mathematical function that provides the probabilities of occurrence of different possible outcomes in an experiment. In more technical terms, the probability distribution is a description of a random phenomenon in terms of the probabilities of events. \n",
        "\n",
        "PD could also be called a \"normalized frequency distribution function\", where area under the graph equals to 1.\n",
        "\n",
        "For instance, if the random variable X is used to denote the outcome of human temperature measurements (\"the experiment\"), then the probability distribution of X looks like:\n",
        "\n"
      ]
    },
    {
      "cell_type": "code",
      "metadata": {
        "id": "4c-Fhs3JSQTh",
        "colab_type": "code",
        "outputId": "6b31b1e7-3c6a-40bd-c838-d95bca358ef5",
        "colab": {}
      },
      "source": [
        "# Density Plot and Histogram of all human body temperature\n",
        "sns.distplot(df['temperature'], hist=True, kde=True, \n",
        "             bins=12, color = 'darkblue', \n",
        "             hist_kws={'edgecolor':'black'},\n",
        "             kde_kws={'linewidth': 4})"
      ],
      "execution_count": 0,
      "outputs": [
        {
          "output_type": "execute_result",
          "data": {
            "text/plain": [
              "<matplotlib.axes._subplots.AxesSubplot at 0x1a167509b0>"
            ]
          },
          "metadata": {
            "tags": []
          },
          "execution_count": 88
        },
        {
          "output_type": "display_data",
          "data": {
            "image/png": "[encoded data removed]",
            "text/plain": [
              "<Figure size 432x288 with 1 Axes>"
            ]
          },
          "metadata": {
            "tags": []
          }
        }
      ]
    },
    {
      "cell_type": "markdown",
      "metadata": {
        "id": "aqie4jH2SQTk",
        "colab_type": "text"
      },
      "source": [
        "## Quantiles\n",
        "**Quantiles** are cut points dividing the range of a probability distribution into continuous intervals with equal probabilities, or dividing the observations in a sample in the same way. There is one fewer quantile than the number of groups created. Thus quartiles are the three cut points that will divide a dataset into four equal-sized groups. Common quantiles have special names: for instance quartile, decile (creating 10 groups: see below for more). The groups created are termed halves, thirds, quarters, etc., though sometimes the terms for the quantile are used for the groups created, rather than for the cut points.\n",
        "\n"
      ]
    },
    {
      "cell_type": "markdown",
      "metadata": {
        "id": "cmm7pSWkSQTk",
        "colab_type": "text"
      },
      "source": [
        "## 3. Normal vs Non Normal \n",
        "\n",
        "![alt text](https://miro.medium.com/max/1200/1*nj-Ch3AUFmkd0JUSOW_bTQ.jpeg)\n",
        "\n",
        "The **normal** (or **Gaussian**) distribution is a very common continuous probability distribution. Normal/Gaussian distributions are important in statistics and are often used to represent real-valued random variables whose distributions are not known. \n",
        "\n"
      ]
    },
    {
      "cell_type": "markdown",
      "metadata": {
        "id": "PENYSyoiSQTl",
        "colab_type": "text"
      },
      "source": [
        "## 4. Skewness\n",
        "Skewness is a measure of symmetry, or more precisely, the lack of symmetry. A distribution, or data set, is symmetric if it looks the same to the left and right of the center point. \n",
        "\n",
        "## 5. Kurtosis\n",
        "Kurtosis is a measure of whether the data are heavy-tailed or light-tailed relative to a normal distribution."
      ]
    },
    {
      "cell_type": "markdown",
      "metadata": {
        "id": "9BeEltK7SQTm",
        "colab_type": "text"
      },
      "source": [
        "![alt text](https://miro.medium.com/max/1256/1*CAnSVnnI3JJ1gL_hrHJJ1w.png)\n",
        "\n"
      ]
    },
    {
      "cell_type": "markdown",
      "metadata": {
        "id": "1VGk3qtISQTn",
        "colab_type": "text"
      },
      "source": [
        "\n"
      ]
    },
    {
      "cell_type": "markdown",
      "metadata": {
        "id": "ECvbkqdGSQTo",
        "colab_type": "text"
      },
      "source": [
        "**Next Step :**\n",
        "    Apply Descriptive Statistics to the Titanic Dataset. "
      ]
    }
  ]
}